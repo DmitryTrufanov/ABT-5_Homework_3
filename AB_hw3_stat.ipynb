{
 "cells": [
  {
   "cell_type": "markdown",
   "metadata": {},
   "source": [
    "# Основы распределения и статистики"
   ]
  },
  {
   "cell_type": "markdown",
   "metadata": {},
   "source": [
    "Используя тестовые данные (или ваши собственные), рассчитайте 5 метрик.  \n",
    "Для каждой метрики:  \n",
    "\n",
    "Посчитайте среднее  \n",
    "Посчитайте медиану  \n",
    "Посчитайте 95-персентиль  \n",
    "Визуализируйте распределение частотным графиком и “ящиком с усами”. Есть ли распределения, напоминающие нормальное?   \n",
    "Со звездочкой: проверьте это с помощью теста на нормальность    \n",
    "Для АБ тестов, задействующих конверсии, рассчитайте необходимые размеры выборок  "
   ]
  },
  {
   "cell_type": "markdown",
   "metadata": {},
   "source": [
    "Date - датасессии  \n",
    "●User_id - id пользователя  \n",
    "●Hour - час стартасессии  \n",
    "●App_opened - приложение открыто  \n",
    "●Price_seen - пользователь ввел данные маршрута и показана цена  \n",
    "●Order_made - пользователь кликнул по кнопке заказа  \n",
    "●Surge - в этот период был включен surge (надбавка к стоимости поездки в период повышенного спроса)  \n",
    "●Ride_completed - поездка успешно завершена  \n",
    "●User_cancelled - пользователь отменил поездку  \n",
    "●Age - возраст пользователя  \n",
    "●Os - операционная система на телефоне  \n",
    "●City_center_order - заказ был сделан из центра города  \n",
    "●Order_class - класс поездки  \n",
    "●Distance - дистанция в км  \n",
    "●Rfm - rfm-сегмент пользователя"
   ]
  },
  {
   "cell_type": "code",
   "execution_count": 1,
   "metadata": {},
   "outputs": [],
   "source": [
    "import pandas as pd\n",
    "import seaborn as sns\n",
    "import matplotlib.pyplot as plt\n",
    "import scipy\n",
    "#import scipy.stats as st"
   ]
  },
  {
   "cell_type": "code",
   "execution_count": 2,
   "metadata": {},
   "outputs": [
    {
     "data": {
      "text/html": [
       "<style>.container { width:100% !important; }</style>"
      ],
      "text/plain": [
       "<IPython.core.display.HTML object>"
      ]
     },
     "metadata": {},
     "output_type": "display_data"
    }
   ],
   "source": [
    "from IPython.core.display import display, HTML\n",
    "display(HTML(\"<style>.container { width:100% !important; }</style>\"))"
   ]
  },
  {
   "cell_type": "code",
   "execution_count": 3,
   "metadata": {},
   "outputs": [
    {
     "data": {
      "text/html": [
       "<div>\n",
       "<style scoped>\n",
       "    .dataframe tbody tr th:only-of-type {\n",
       "        vertical-align: middle;\n",
       "    }\n",
       "\n",
       "    .dataframe tbody tr th {\n",
       "        vertical-align: top;\n",
       "    }\n",
       "\n",
       "    .dataframe thead th {\n",
       "        text-align: right;\n",
       "    }\n",
       "</style>\n",
       "<table border=\"1\" class=\"dataframe\">\n",
       "  <thead>\n",
       "    <tr style=\"text-align: right;\">\n",
       "      <th></th>\n",
       "      <th>Unnamed: 0</th>\n",
       "      <th>date</th>\n",
       "      <th>user_id</th>\n",
       "      <th>hour</th>\n",
       "      <th>app_opened</th>\n",
       "      <th>price_seen</th>\n",
       "      <th>order_made</th>\n",
       "      <th>surge</th>\n",
       "      <th>ride_completed</th>\n",
       "      <th>user_cancelled</th>\n",
       "      <th>age</th>\n",
       "      <th>os</th>\n",
       "      <th>city_center_order</th>\n",
       "      <th>order_class</th>\n",
       "      <th>distance</th>\n",
       "      <th>rfm</th>\n",
       "    </tr>\n",
       "  </thead>\n",
       "  <tbody>\n",
       "    <tr>\n",
       "      <th>0</th>\n",
       "      <td>0</td>\n",
       "      <td>2020-05-21</td>\n",
       "      <td>867689</td>\n",
       "      <td>12</td>\n",
       "      <td>1</td>\n",
       "      <td>1</td>\n",
       "      <td>1</td>\n",
       "      <td>no surge</td>\n",
       "      <td>1</td>\n",
       "      <td>0</td>\n",
       "      <td>20</td>\n",
       "      <td>iOS</td>\n",
       "      <td>0</td>\n",
       "      <td>business</td>\n",
       "      <td>7.982135</td>\n",
       "      <td>low</td>\n",
       "    </tr>\n",
       "    <tr>\n",
       "      <th>1</th>\n",
       "      <td>1</td>\n",
       "      <td>2020-05-23</td>\n",
       "      <td>752172</td>\n",
       "      <td>5</td>\n",
       "      <td>1</td>\n",
       "      <td>1</td>\n",
       "      <td>1</td>\n",
       "      <td>no surge</td>\n",
       "      <td>1</td>\n",
       "      <td>0</td>\n",
       "      <td>37</td>\n",
       "      <td>Android</td>\n",
       "      <td>1</td>\n",
       "      <td>economy</td>\n",
       "      <td>2.908468</td>\n",
       "      <td>high</td>\n",
       "    </tr>\n",
       "    <tr>\n",
       "      <th>2</th>\n",
       "      <td>2</td>\n",
       "      <td>2020-05-20</td>\n",
       "      <td>486559</td>\n",
       "      <td>15</td>\n",
       "      <td>1</td>\n",
       "      <td>1</td>\n",
       "      <td>1</td>\n",
       "      <td>no surge</td>\n",
       "      <td>1</td>\n",
       "      <td>0</td>\n",
       "      <td>47</td>\n",
       "      <td>Android</td>\n",
       "      <td>0</td>\n",
       "      <td>comfort</td>\n",
       "      <td>7.224614</td>\n",
       "      <td>low</td>\n",
       "    </tr>\n",
       "    <tr>\n",
       "      <th>3</th>\n",
       "      <td>3</td>\n",
       "      <td>2020-05-19</td>\n",
       "      <td>304024</td>\n",
       "      <td>0</td>\n",
       "      <td>1</td>\n",
       "      <td>1</td>\n",
       "      <td>1</td>\n",
       "      <td>no surge</td>\n",
       "      <td>1</td>\n",
       "      <td>0</td>\n",
       "      <td>59</td>\n",
       "      <td>Android</td>\n",
       "      <td>1</td>\n",
       "      <td>economy</td>\n",
       "      <td>1.874349</td>\n",
       "      <td>low</td>\n",
       "    </tr>\n",
       "    <tr>\n",
       "      <th>4</th>\n",
       "      <td>4</td>\n",
       "      <td>2020-05-23</td>\n",
       "      <td>139420</td>\n",
       "      <td>0</td>\n",
       "      <td>1</td>\n",
       "      <td>1</td>\n",
       "      <td>1</td>\n",
       "      <td>no surge</td>\n",
       "      <td>1</td>\n",
       "      <td>0</td>\n",
       "      <td>19</td>\n",
       "      <td>Android</td>\n",
       "      <td>0</td>\n",
       "      <td>business</td>\n",
       "      <td>10.704778</td>\n",
       "      <td>medium</td>\n",
       "    </tr>\n",
       "  </tbody>\n",
       "</table>\n",
       "</div>"
      ],
      "text/plain": [
       "   Unnamed: 0        date  user_id  hour  app_opened  price_seen  order_made  \\\n",
       "0           0  2020-05-21   867689    12           1           1           1   \n",
       "1           1  2020-05-23   752172     5           1           1           1   \n",
       "2           2  2020-05-20   486559    15           1           1           1   \n",
       "3           3  2020-05-19   304024     0           1           1           1   \n",
       "4           4  2020-05-23   139420     0           1           1           1   \n",
       "\n",
       "      surge  ride_completed  user_cancelled  age       os  city_center_order  \\\n",
       "0  no surge               1               0   20      iOS                  0   \n",
       "1  no surge               1               0   37  Android                  1   \n",
       "2  no surge               1               0   47  Android                  0   \n",
       "3  no surge               1               0   59  Android                  1   \n",
       "4  no surge               1               0   19  Android                  0   \n",
       "\n",
       "  order_class   distance     rfm  \n",
       "0    business   7.982135     low  \n",
       "1     economy   2.908468    high  \n",
       "2     comfort   7.224614     low  \n",
       "3     economy   1.874349     low  \n",
       "4    business  10.704778  medium  "
      ]
     },
     "execution_count": 3,
     "metadata": {},
     "output_type": "execute_result"
    }
   ],
   "source": [
    "df = pd.read_csv('Netology_A_B-testing_HW_1.csv')\n",
    "df.head()"
   ]
  },
  {
   "cell_type": "code",
   "execution_count": 4,
   "metadata": {},
   "outputs": [
    {
     "data": {
      "text/html": [
       "<div>\n",
       "<style scoped>\n",
       "    .dataframe tbody tr th:only-of-type {\n",
       "        vertical-align: middle;\n",
       "    }\n",
       "\n",
       "    .dataframe tbody tr th {\n",
       "        vertical-align: top;\n",
       "    }\n",
       "\n",
       "    .dataframe thead th {\n",
       "        text-align: right;\n",
       "    }\n",
       "</style>\n",
       "<table border=\"1\" class=\"dataframe\">\n",
       "  <thead>\n",
       "    <tr style=\"text-align: right;\">\n",
       "      <th></th>\n",
       "      <th>Unnamed: 0</th>\n",
       "      <th>user_id</th>\n",
       "      <th>hour</th>\n",
       "      <th>app_opened</th>\n",
       "      <th>price_seen</th>\n",
       "      <th>order_made</th>\n",
       "      <th>ride_completed</th>\n",
       "      <th>user_cancelled</th>\n",
       "      <th>age</th>\n",
       "      <th>city_center_order</th>\n",
       "      <th>distance</th>\n",
       "    </tr>\n",
       "  </thead>\n",
       "  <tbody>\n",
       "    <tr>\n",
       "      <th>count</th>\n",
       "      <td>101500.000000</td>\n",
       "      <td>101500.000000</td>\n",
       "      <td>101500.000000</td>\n",
       "      <td>101500.0</td>\n",
       "      <td>101500.000000</td>\n",
       "      <td>101500.000000</td>\n",
       "      <td>101500.000000</td>\n",
       "      <td>101500.000000</td>\n",
       "      <td>101500.000000</td>\n",
       "      <td>101500.000000</td>\n",
       "      <td>91431.000000</td>\n",
       "    </tr>\n",
       "    <tr>\n",
       "      <th>mean</th>\n",
       "      <td>50749.500000</td>\n",
       "      <td>549874.802207</td>\n",
       "      <td>11.481429</td>\n",
       "      <td>1.0</td>\n",
       "      <td>0.900798</td>\n",
       "      <td>0.731389</td>\n",
       "      <td>0.620365</td>\n",
       "      <td>0.111025</td>\n",
       "      <td>40.471764</td>\n",
       "      <td>0.571675</td>\n",
       "      <td>5.371152</td>\n",
       "    </tr>\n",
       "    <tr>\n",
       "      <th>std</th>\n",
       "      <td>29300.670499</td>\n",
       "      <td>258600.104176</td>\n",
       "      <td>6.917522</td>\n",
       "      <td>0.0</td>\n",
       "      <td>0.298934</td>\n",
       "      <td>0.443239</td>\n",
       "      <td>0.485299</td>\n",
       "      <td>0.314164</td>\n",
       "      <td>13.536322</td>\n",
       "      <td>0.494838</td>\n",
       "      <td>4.118531</td>\n",
       "    </tr>\n",
       "    <tr>\n",
       "      <th>min</th>\n",
       "      <td>0.000000</td>\n",
       "      <td>100093.000000</td>\n",
       "      <td>0.000000</td>\n",
       "      <td>1.0</td>\n",
       "      <td>0.000000</td>\n",
       "      <td>0.000000</td>\n",
       "      <td>0.000000</td>\n",
       "      <td>0.000000</td>\n",
       "      <td>18.000000</td>\n",
       "      <td>0.000000</td>\n",
       "      <td>0.010946</td>\n",
       "    </tr>\n",
       "    <tr>\n",
       "      <th>25%</th>\n",
       "      <td>25374.750000</td>\n",
       "      <td>328223.000000</td>\n",
       "      <td>5.000000</td>\n",
       "      <td>1.0</td>\n",
       "      <td>1.000000</td>\n",
       "      <td>0.000000</td>\n",
       "      <td>0.000000</td>\n",
       "      <td>0.000000</td>\n",
       "      <td>29.000000</td>\n",
       "      <td>0.000000</td>\n",
       "      <td>2.438335</td>\n",
       "    </tr>\n",
       "    <tr>\n",
       "      <th>50%</th>\n",
       "      <td>50749.500000</td>\n",
       "      <td>548827.000000</td>\n",
       "      <td>11.000000</td>\n",
       "      <td>1.0</td>\n",
       "      <td>1.000000</td>\n",
       "      <td>1.000000</td>\n",
       "      <td>1.000000</td>\n",
       "      <td>0.000000</td>\n",
       "      <td>40.000000</td>\n",
       "      <td>1.000000</td>\n",
       "      <td>4.279565</td>\n",
       "    </tr>\n",
       "    <tr>\n",
       "      <th>75%</th>\n",
       "      <td>76124.250000</td>\n",
       "      <td>773051.000000</td>\n",
       "      <td>17.000000</td>\n",
       "      <td>1.0</td>\n",
       "      <td>1.000000</td>\n",
       "      <td>1.000000</td>\n",
       "      <td>1.000000</td>\n",
       "      <td>0.000000</td>\n",
       "      <td>52.000000</td>\n",
       "      <td>1.000000</td>\n",
       "      <td>7.129814</td>\n",
       "    </tr>\n",
       "    <tr>\n",
       "      <th>max</th>\n",
       "      <td>101499.000000</td>\n",
       "      <td>999978.000000</td>\n",
       "      <td>23.000000</td>\n",
       "      <td>1.0</td>\n",
       "      <td>1.000000</td>\n",
       "      <td>1.000000</td>\n",
       "      <td>1.000000</td>\n",
       "      <td>1.000000</td>\n",
       "      <td>69.000000</td>\n",
       "      <td>1.000000</td>\n",
       "      <td>40.268966</td>\n",
       "    </tr>\n",
       "  </tbody>\n",
       "</table>\n",
       "</div>"
      ],
      "text/plain": [
       "          Unnamed: 0        user_id           hour  app_opened     price_seen  \\\n",
       "count  101500.000000  101500.000000  101500.000000    101500.0  101500.000000   \n",
       "mean    50749.500000  549874.802207      11.481429         1.0       0.900798   \n",
       "std     29300.670499  258600.104176       6.917522         0.0       0.298934   \n",
       "min         0.000000  100093.000000       0.000000         1.0       0.000000   \n",
       "25%     25374.750000  328223.000000       5.000000         1.0       1.000000   \n",
       "50%     50749.500000  548827.000000      11.000000         1.0       1.000000   \n",
       "75%     76124.250000  773051.000000      17.000000         1.0       1.000000   \n",
       "max    101499.000000  999978.000000      23.000000         1.0       1.000000   \n",
       "\n",
       "          order_made  ride_completed  user_cancelled            age  \\\n",
       "count  101500.000000   101500.000000   101500.000000  101500.000000   \n",
       "mean        0.731389        0.620365        0.111025      40.471764   \n",
       "std         0.443239        0.485299        0.314164      13.536322   \n",
       "min         0.000000        0.000000        0.000000      18.000000   \n",
       "25%         0.000000        0.000000        0.000000      29.000000   \n",
       "50%         1.000000        1.000000        0.000000      40.000000   \n",
       "75%         1.000000        1.000000        0.000000      52.000000   \n",
       "max         1.000000        1.000000        1.000000      69.000000   \n",
       "\n",
       "       city_center_order      distance  \n",
       "count      101500.000000  91431.000000  \n",
       "mean            0.571675      5.371152  \n",
       "std             0.494838      4.118531  \n",
       "min             0.000000      0.010946  \n",
       "25%             0.000000      2.438335  \n",
       "50%             1.000000      4.279565  \n",
       "75%             1.000000      7.129814  \n",
       "max             1.000000     40.268966  "
      ]
     },
     "execution_count": 4,
     "metadata": {},
     "output_type": "execute_result"
    }
   ],
   "source": [
    "df.describe()"
   ]
  },
  {
   "cell_type": "markdown",
   "metadata": {},
   "source": [
    "**Посчитайте среднее**"
   ]
  },
  {
   "cell_type": "code",
   "execution_count": 5,
   "metadata": {},
   "outputs": [
    {
     "name": "stdout",
     "output_type": "stream",
     "text": [
      "средний возраст: 40.47\n",
      "среднее расстояние: 5.37\n",
      "среднее время: 11.48\n"
     ]
    }
   ],
   "source": [
    "print('средний возраст:', round(df['age'].mean(), 2))\n",
    "print('среднее расстояние:', round(df['distance'].mean(), 2))\n",
    "print('среднее время:', round(df['hour'].mean(), 2))"
   ]
  },
  {
   "cell_type": "markdown",
   "metadata": {},
   "source": [
    "**Посчитайте медиану**"
   ]
  },
  {
   "cell_type": "code",
   "execution_count": 6,
   "metadata": {},
   "outputs": [
    {
     "name": "stdout",
     "output_type": "stream",
     "text": [
      "медианный возраст: 40.0\n",
      "смедианное расстояние: 4.28\n",
      "смедианное время: 11.0\n"
     ]
    }
   ],
   "source": [
    "print('медианный возраст:', round(df['age'].median(), 2))\n",
    "print('смедианное расстояние:', round(df['distance'].median(), 2))\n",
    "print('смедианное время:', round(df['hour'].median(), 2))"
   ]
  },
  {
   "cell_type": "markdown",
   "metadata": {},
   "source": [
    "**Посчитайте 95-персентиль**"
   ]
  },
  {
   "cell_type": "code",
   "execution_count": 7,
   "metadata": {},
   "outputs": [
    {
     "name": "stdout",
     "output_type": "stream",
     "text": [
      "95-персентиль возраст: 63.0\n",
      "95-персентиль расстояние: 13.69\n",
      "95-персентиль время: 22.0\n"
     ]
    }
   ],
   "source": [
    "print('95-персентиль возраст:', round(df['age'].quantile(0.95), 2))\n",
    "print('95-персентиль расстояние:', round(df['distance'].quantile(0.95), 2))\n",
    "print('95-персентиль время:', round(df['hour'].quantile(0.95), 2))"
   ]
  },
  {
   "cell_type": "markdown",
   "metadata": {},
   "source": [
    "**Визуализируйте распределение частотным графиком и “ящиком с усами”.**"
   ]
  },
  {
   "cell_type": "markdown",
   "metadata": {},
   "source": [
    "Возраст"
   ]
  },
  {
   "cell_type": "code",
   "execution_count": 7,
   "metadata": {
    "scrolled": false
   },
   "outputs": [
    {
     "name": "stdout",
     "output_type": "stream",
     "text": [
      "Statistics=0.967, p-value=0.000\n",
      "Тест Шапиро: Отклонить гипотезу о нормальности\n",
      "Statistics=28787.917, p-value=0.000\n",
      "критерий Пирсона: Отклонить гипотезу о нормальности\n"
     ]
    },
    {
     "name": "stderr",
     "output_type": "stream",
     "text": [
      "C:\\Users\\trufanovdv\\Anaconda3\\lib\\site-packages\\scipy\\stats\\morestats.py:1676: UserWarning: p-value may not be accurate for N > 5000.\n",
      "  warnings.warn(\"p-value may not be accurate for N > 5000.\")\n"
     ]
    },
    {
     "data": {
      "image/png": "[encoded data removed]",
      "text/plain": [
       "<Figure size 1440x288 with 2 Axes>"
      ]
     },
     "metadata": {
      "needs_background": "light"
     },
     "output_type": "display_data"
    }
   ],
   "source": [
    "fig, axs = plt.subplots(1,2, figsize=(20, 4))\n",
    "\n",
    "df['age'].hist(ax=axs[0])\n",
    "df['age'].plot(kind='box', ax=axs[1])\n",
    "\n",
    "stat, p = scipy.stats.shapiro(df['age']) # тест Шапиро-Уилк\n",
    "print('Statistics=%.3f, p-value=%.3f' % (stat, p))\n",
    "alpha = 0.05\n",
    "if p > alpha:\n",
    "    print('Тест Шапиро: Принять гипотезу о нормальности')\n",
    "else:\n",
    "    print('Тест Шапиро: Отклонить гипотезу о нормальности')\n",
    "    \n",
    "stat, p = scipy.stats.normaltest(df['age']) # Критерий согласия Пирсона\n",
    "print('Statistics=%.3f, p-value=%.3f' % (stat, p))\n",
    "alpha = 0.05\n",
    "if p > alpha:\n",
    "    print('критерий Пирсона: Принять гипотезу о нормальности')\n",
    "else:\n",
    "    print('критерий Пирсона: Отклонить гипотезу о нормальности')"
   ]
  },
  {
   "cell_type": "markdown",
   "metadata": {},
   "source": [
    "Расстояние"
   ]
  },
  {
   "cell_type": "code",
   "execution_count": 8,
   "metadata": {
    "scrolled": false
   },
   "outputs": [
    {
     "name": "stdout",
     "output_type": "stream",
     "text": [
      "Statistics=0.867, p-value=0.000\n",
      "Тест Шапиро: Отклонить гипотезу о нормальности\n",
      "Statistics=28398.018, p-value=0.000\n",
      "критерий Пирсона: Отклонить гипотезу о нормальности\n"
     ]
    },
    {
     "name": "stderr",
     "output_type": "stream",
     "text": [
      "C:\\Users\\trufanovdv\\Anaconda3\\lib\\site-packages\\scipy\\stats\\morestats.py:1676: UserWarning: p-value may not be accurate for N > 5000.\n",
      "  warnings.warn(\"p-value may not be accurate for N > 5000.\")\n"
     ]
    },
    {
     "data": {
      "image/png": "[encoded data removed]",
      "text/plain": [
       "<Figure size 1440x288 with 2 Axes>"
      ]
     },
     "metadata": {
      "needs_background": "light"
     },
     "output_type": "display_data"
    }
   ],
   "source": [
    "distance = df['distance'].dropna()\n",
    "\n",
    "fig, axs = plt.subplots(1,2, figsize=(20, 4))\n",
    "\n",
    "distance.hist(ax=axs[0])\n",
    "distance.plot(kind='box', ax=axs[1])\n",
    "\n",
    "stat, p = scipy.stats.shapiro(distance) # тест Шапиро-Уилк\n",
    "print('Statistics=%.3f, p-value=%.3f' % (stat, p))\n",
    "alpha = 0.05\n",
    "if p > alpha:\n",
    "    print('Тест Шапиро: Принять гипотезу о нормальности')\n",
    "else:\n",
    "    print('Тест Шапиро: Отклонить гипотезу о нормальности')\n",
    "    \n",
    "stat, p = scipy.stats.normaltest(distance) # Критерий согласия Пирсона\n",
    "print('Statistics=%.3f, p-value=%.3f' % (stat, p))\n",
    "alpha = 0.05\n",
    "if p > alpha:\n",
    "    print('критерий Пирсона: Принять гипотезу о нормальности')\n",
    "else:\n",
    "    print('критерий Пирсона: Отклонить гипотезу о нормальности')"
   ]
  },
  {
   "cell_type": "markdown",
   "metadata": {},
   "source": [
    "Час входа в приложение"
   ]
  },
  {
   "cell_type": "code",
   "execution_count": 8,
   "metadata": {},
   "outputs": [
    {
     "name": "stderr",
     "output_type": "stream",
     "text": [
      "C:\\Users\\trufanovdv\\Anaconda3\\lib\\site-packages\\scipy\\stats\\morestats.py:1676: UserWarning: p-value may not be accurate for N > 5000.\n",
      "  warnings.warn(\"p-value may not be accurate for N > 5000.\")\n"
     ]
    },
    {
     "name": "stdout",
     "output_type": "stream",
     "text": [
      "Statistics=0.951, p-value=0.000\n",
      "Тест Шапиро: Отклонить гипотезу о нормальности\n",
      "Statistics=93700.405, p-value=0.000\n",
      "критерий Пирсона: Отклонить гипотезу о нормальности\n"
     ]
    },
    {
     "data": {
      "image/png": "[encoded data removed]",
      "text/plain": [
       "<Figure size 1440x288 with 2 Axes>"
      ]
     },
     "metadata": {
      "needs_background": "light"
     },
     "output_type": "display_data"
    }
   ],
   "source": [
    "fig, axs = plt.subplots(1,2, figsize=(20, 4))\n",
    "\n",
    "df['hour'].hist(ax=axs[0])\n",
    "df['hour'].plot(kind='box', ax=axs[1])\n",
    "\n",
    "stat, p = scipy.stats.shapiro(df['hour']) # тест Шапиро-Уилк\n",
    "print('Statistics=%.3f, p-value=%.3f' % (stat, p))\n",
    "alpha = 0.05\n",
    "if p > alpha:\n",
    "    print('Тест Шапиро: Принять гипотезу о нормальности')\n",
    "else:\n",
    "    print('Тест Шапиро: Отклонить гипотезу о нормальности')\n",
    "    \n",
    "stat, p = scipy.stats.normaltest(df['hour']) # Критерий согласия Пирсона\n",
    "print('Statistics=%.3f, p-value=%.3f' % (stat, p))\n",
    "alpha = 0.05\n",
    "if p > alpha:\n",
    "    print('критерий Пирсона: Принять гипотезу о нормальности')\n",
    "else:\n",
    "    print('критерий Пирсона: Отклонить гипотезу о нормальности')"
   ]
  },
  {
   "cell_type": "markdown",
   "metadata": {},
   "source": [
    "Заказ сделан"
   ]
  },
  {
   "cell_type": "code",
   "execution_count": 9,
   "metadata": {},
   "outputs": [
    {
     "name": "stderr",
     "output_type": "stream",
     "text": [
      "C:\\Users\\trufanovdv\\Anaconda3\\lib\\site-packages\\scipy\\stats\\morestats.py:1676: UserWarning: p-value may not be accurate for N > 5000.\n",
      "  warnings.warn(\"p-value may not be accurate for N > 5000.\")\n"
     ]
    },
    {
     "name": "stdout",
     "output_type": "stream",
     "text": [
      "Statistics=0.553, p-value=0.000\n",
      "Тест Шапиро: Отклонить гипотезу о нормальности\n",
      "Statistics=27470.722, p-value=0.000\n",
      "критерий Пирсона: Отклонить гипотезу о нормальности\n"
     ]
    },
    {
     "data": {
      "image/png": "[encoded data removed]",
      "text/plain": [
       "<Figure size 1440x288 with 2 Axes>"
      ]
     },
     "metadata": {
      "needs_background": "light"
     },
     "output_type": "display_data"
    }
   ],
   "source": [
    "fig, axs = plt.subplots(1,2, figsize=(20, 4))\n",
    "\n",
    "df['order_made'].hist(ax=axs[0])\n",
    "df['order_made'].plot(kind='box', ax=axs[1])\n",
    "\n",
    "stat, p = scipy.stats.shapiro(df['order_made']) # тест Шапиро-Уилк\n",
    "print('Statistics=%.3f, p-value=%.3f' % (stat, p))\n",
    "alpha = 0.05\n",
    "if p > alpha:\n",
    "    print('Тест Шапиро: Принять гипотезу о нормальности')\n",
    "else:\n",
    "    print('Тест Шапиро: Отклонить гипотезу о нормальности')\n",
    "    \n",
    "stat, p = scipy.stats.normaltest(df['order_made']) # Критерий согласия Пирсона\n",
    "print('Statistics=%.3f, p-value=%.3f' % (stat, p))\n",
    "alpha = 0.05\n",
    "if p > alpha:\n",
    "    print('критерий Пирсона: Принять гипотезу о нормальности')\n",
    "else:\n",
    "    print('критерий Пирсона: Отклонить гипотезу о нормальности')"
   ]
  },
  {
   "cell_type": "markdown",
   "metadata": {},
   "source": [
    "**Для АБ тестов, задействующих конверсии, рассчитайте необходимые размеры выборок**"
   ]
  },
  {
   "cell_type": "code",
   "execution_count": null,
   "metadata": {},
   "outputs": [],
   "source": [
    "# https://www.evanmiller.org/ab-testing/sample-size.html - тест"
   ]
  },
  {
   "cell_type": "code",
   "execution_count": 10,
   "metadata": {},
   "outputs": [
    {
     "data": {
      "text/plain": [
       "0.7313891625615764"
      ]
     },
     "execution_count": 10,
     "metadata": {},
     "output_type": "execute_result"
    }
   ],
   "source": [
    "#конверсия заказов\n",
    "df['order_made'].sum() / df['order_made'].count()"
   ]
  },
  {
   "cell_type": "code",
   "execution_count": null,
   "metadata": {},
   "outputs": [],
   "source": [
    "Гипотеза:\n",
    "если в приложение добавить информацию о пробках, то количество входов в приложение возрастет, что приведет к росту количества заказов.\n",
    "базисная конверсия заказов 73%\n",
    "ожидаем рост на 5%\n",
    "доверительный интервал - 95%\n",
    "размер выборки - 1700"
   ]
  },
  {
   "cell_type": "code",
   "execution_count": null,
   "metadata": {},
   "outputs": [],
   "source": []
  },
  {
   "cell_type": "code",
   "execution_count": 11,
   "metadata": {},
   "outputs": [
    {
     "data": {
      "text/plain": [
       "0.7385162752281921"
      ]
     },
     "execution_count": 11,
     "metadata": {},
     "output_type": "execute_result"
    }
   ],
   "source": [
    "df_econom = df[df['order_class'] == 'economy']\n",
    "df_econom['order_made'].sum() / df_econom['order_made'].count()"
   ]
  },
  {
   "cell_type": "code",
   "execution_count": null,
   "metadata": {},
   "outputs": [],
   "source": [
    "Гипотеза:\n",
    "если при открытии приложения сообщать о действующих акциях, то количество заказов возрастет в эконом сегменте\n",
    "базисная конверсия заказов 73.85%\n",
    "ожидаем рост на 20%\n",
    "доверительный интервал - 95%\n",
    "размер выборки - 67"
   ]
  },
  {
   "cell_type": "code",
   "execution_count": null,
   "metadata": {},
   "outputs": [],
   "source": []
  },
  {
   "cell_type": "code",
   "execution_count": 12,
   "metadata": {},
   "outputs": [
    {
     "data": {
      "text/plain": [
       "0.6843692676732045"
      ]
     },
     "execution_count": 12,
     "metadata": {},
     "output_type": "execute_result"
    }
   ],
   "source": [
    "df_android = df[df['os'] == 'Android']\n",
    "df_android['order_made'].sum() / df_android['order_made'].count()"
   ]
  },
  {
   "cell_type": "code",
   "execution_count": null,
   "metadata": {},
   "outputs": [],
   "source": [
    "Гипотеза:\n",
    "клиенты с телефонами Android чаще не делают заказ после расчета стоимости поездки. Скорее всего сравнивают цены конкурентов. Если для Android делать скидку, то количество заказов увеличится для всех классов\n",
    "базисная конверсия заказов 68.4%\n",
    "ожидаем рост на 10%\n",
    "доверительный интервал - 95%\n",
    "размер выборки - 440"
   ]
  },
  {
   "cell_type": "code",
   "execution_count": null,
   "metadata": {},
   "outputs": [],
   "source": []
  },
  {
   "cell_type": "code",
   "execution_count": 24,
   "metadata": {},
   "outputs": [
    {
     "data": {
      "text/plain": [
       "0.27134755603564675"
      ]
     },
     "execution_count": 24,
     "metadata": {},
     "output_type": "execute_result"
    }
   ],
   "source": [
    "df_surge = df[ (df['order_class'].isin(['economy', 'business'])) & (df_surge['surge'] == 'surge') ]\n",
    "1 - df_surge['order_made'].sum() / df_surge['order_made'].count()"
   ]
  },
  {
   "cell_type": "code",
   "execution_count": null,
   "metadata": {},
   "outputs": [],
   "source": [
    "Гипотеза:\n",
    "если отменить надбавку к стоимости поездки во время повышенного спроса, то количество отказов сократится в эконом и бизнес классе\n",
    "базисная конверсия отказов 27.13%\n",
    "ожидаем сокращение на 10%\n",
    "доверительный интервал - 95%\n",
    "размер выборки - 3400"
   ]
  },
  {
   "cell_type": "code",
   "execution_count": null,
   "metadata": {},
   "outputs": [],
   "source": []
  }
 ],
 "metadata": {
  "kernelspec": {
   "display_name": "Python 3",
   "language": "python",
   "name": "python3"
  },
  "language_info": {
   "codemirror_mode": {
    "name": "ipython",
    "version": 3
   },
   "file_extension": ".py",
   "mimetype": "text/x-python",
   "name": "python",
   "nbconvert_exporter": "python",
   "pygments_lexer": "ipython3",
   "version": "3.7.6"
  }
 },
 "nbformat": 4,
 "nbformat_minor": 4
}
